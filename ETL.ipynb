{
 "cells": [
  {
   "cell_type": "code",
   "execution_count": 1,
   "id": "41210a6f-af7f-4c0c-956b-19b70f63dc0c",
   "metadata": {},
   "outputs": [],
   "source": [
    "import logging"
   ]
  },
  {
   "cell_type": "code",
   "execution_count": 3,
   "id": "3420f7b9-d5bd-44b0-a469-908e2b33787e",
   "metadata": {},
   "outputs": [],
   "source": [
    "# Set up basic logging \n",
    "logging.basicConfig( \n",
    "filename='etl_log.txt', \n",
    "level=logging.INFO, \n",
    "format='%(asctime)s - %(levelname)s - %(message)s' \n",
    ")"
   ]
  },
  {
   "cell_type": "code",
   "execution_count": 4,
   "id": "0e3f0ca8-dba8-4305-aa85-fa216960e04d",
   "metadata": {},
   "outputs": [],
   "source": [
    "import pandas as pd \n",
    "import numpy as np \n",
    "import mysql.connector \n",
    "import datetime"
   ]
  },
  {
   "cell_type": "code",
   "execution_count": 7,
   "id": "34a074df-3770-458b-9595-f0aa02971edb",
   "metadata": {},
   "outputs": [],
   "source": [
    "csv_file_path = 'employees1.csv' \n",
    "df = pd.read_csv(r\"C:\\Users\\farit\\Downloads\\employees1.csv\")"
   ]
  },
  {
   "cell_type": "code",
   "execution_count": 8,
   "id": "b59cb95b-24ad-4f6d-8cef-9d8385d58d13",
   "metadata": {},
   "outputs": [
    {
     "name": "stdout",
     "output_type": "stream",
     "text": [
      "Raw data loaded:\n",
      "   EMPLOYEE_ID FIRST_NAME  LAST_NAME     EMAIL  PHONE_NUMBER  HIRE_DATE  \\\n",
      "0          198     Donald   OConnell  DOCONNEL  650.507.9833  21-Jun-07   \n",
      "1          199    Douglas      Grant    DGRANT  650.507.9844  13-Jan-08   \n",
      "2          200   Jennifer     Whalen   JWHALEN  515.123.4444  17-Sep-03   \n",
      "3          201    Michael  Hartstein  MHARTSTE  515.123.5555  17-Feb-04   \n",
      "4          202        Pat        Fay      PFAY  603.123.6666  17-Aug-05   \n",
      "\n",
      "     JOB_ID  SALARY  \n",
      "0  SH_CLERK    2600  \n",
      "1  SH_CLERK    2600  \n",
      "2   AD_ASST    4400  \n",
      "3    MK_MAN   13000  \n",
      "4    MK_REP    6000  \n",
      "['EMPLOYEE_ID', 'FIRST_NAME', 'LAST_NAME', 'EMAIL', 'PHONE_NUMBER', 'HIRE_DATE', 'JOB_ID', 'SALARY']\n"
     ]
    }
   ],
   "source": [
    "print(\"Raw data loaded:\") \n",
    "print(df.head()) \n",
    "print(df.columns.tolist()) \n",
    "logging.info(\"CSV loaded successfully.\") "
   ]
  },
  {
   "cell_type": "code",
   "execution_count": 9,
   "id": "0d19ea87-1978-4379-b0fc-c7136a4f456d",
   "metadata": {},
   "outputs": [],
   "source": [
    "# Handle missing values \n",
    "df.fillna({ \n",
    "'EMAIL': 'not_provided@example.com', \n",
    "'PHONE_NUMBER': '0000000000', \n",
    "'HIRE_DATE': '01-Jan-00', \n",
    "'SALARY': 0 \n",
    "}, inplace=True)"
   ]
  },
  {
   "cell_type": "code",
   "execution_count": 16,
   "id": "732f8bf7-1b36-4af1-b171-1640d724cb19",
   "metadata": {},
   "outputs": [
    {
     "name": "stdout",
     "output_type": "stream",
     "text": [
      "['employee_id', 'first_name', 'last_name', 'email', 'phone_number', 'hire_date', 'job_id', 'salary']\n"
     ]
    }
   ],
   "source": [
    "#Standardize column names (optional) \n",
    "\n",
    "df.columns = [col.strip().lower().replace(' ', '_') for col in df.columns] \n",
    "print(df.columns.tolist())"
   ]
  },
  {
   "cell_type": "code",
   "execution_count": 17,
   "id": "98468c3f-8c28-498f-8278-a8f96c8f1604",
   "metadata": {},
   "outputs": [],
   "source": [
    "# Convert hire_date from 'dd-MMM-yy' to 'YYYY-MM-DD' \n",
    "df['hire_date'] = pd.to_datetime(df['hire_date'], format='%d-%b-%y', \n",
    "errors='coerce')"
   ]
  },
  {
   "cell_type": "code",
   "execution_count": 18,
   "id": "abc6929d-4448-45f8-baa5-b5abd9f0784e",
   "metadata": {},
   "outputs": [],
   "source": [
    "# Replace invalid dates with a default \n",
    "df['hire_date'] = df['hire_date'].fillna(pd.to_datetime('2000-01-01')) "
   ]
  },
  {
   "cell_type": "code",
   "execution_count": 19,
   "id": "85a3a1ec-2be0-407a-b107-e4f2a922e135",
   "metadata": {},
   "outputs": [],
   "source": [
    "# Replace non-numeric salaries with 0 \n",
    "df['salary'] = pd.to_numeric(df['salary'], errors='coerce').fillna(0).astype(int) \n",
    "logging.info(\"Data cleaning completed.\")"
   ]
  },
  {
   "cell_type": "code",
   "execution_count": 21,
   "id": "1c3e1716-a2d2-4f1e-abe6-c922beaf04c5",
   "metadata": {},
   "outputs": [],
   "source": [
    "# ----------------------------- \n",
    "# Step 3: Load - Insert into MySQL \n",
    "# ----------------------------- \n",
    "# MySQL connection\n",
    "mydb = mysql.connector.connect( \n",
    "    host=\"localhost\", \n",
    "    user=\"root\", \n",
    "    password=\"root\", \n",
    "    database=\"employee\"  # <-- change this \n",
    ") \n",
    " \n",
    "cursor = mydb.cursor()"
   ]
  },
  {
   "cell_type": "code",
   "execution_count": 22,
   "id": "ccf4023e-7231-42e2-aae9-9a478ab86dae",
   "metadata": {},
   "outputs": [],
   "source": [
    "# Create table if not exists \n",
    "cursor.execute(\"\"\" \n",
    "    CREATE TABLE IF NOT EXISTS salary_2 ( \n",
    "        empid INT, \n",
    "        firstname VARCHAR(50), \n",
    "        lastname VARCHAR(50), \n",
    "        email VARCHAR(100), \n",
    "        phone VARCHAR(20), \n",
    "        hire_date DATE, \n",
    "        job_id VARCHAR(20), \n",
    "        salary INT \n",
    "    ) \n",
    "\"\"\")"
   ]
  },
  {
   "cell_type": "code",
   "execution_count": 23,
   "id": "03309499-033e-45a2-a520-31a2703d1c46",
   "metadata": {},
   "outputs": [],
   "source": [
    "# Insert each row into the table \n",
    "for index, row in df.iterrows(): \n",
    "    sql = \"\"\" \n",
    "        INSERT INTO salary_2 (empid, firstname, lastname, email, phone, \n",
    "hire_date, job_id, salary) \n",
    "        VALUES (%s, %s, %s, %s, %s, %s, %s, %s) \n",
    "        ON DUPLICATE KEY UPDATE \n",
    "            firstname=VALUES(firstname), \n",
    "            lastname=VALUES(lastname), \n",
    "            email=VALUES(email), \n",
    "            phone=VALUES(phone), \n",
    "            hire_date=VALUES(hire_date), \n",
    "            job_id=VALUES(job_id), \n",
    "            salary=VALUES(salary) \n",
    "    \"\"\" \n",
    "    values = ( \n",
    "        int(row['employee_id']), \n",
    "        row['first_name'], \n",
    "        row['last_name'], \n",
    "        row['email'], \n",
    "        row['phone_number'], \n",
    "        row['hire_date'].date(), \n",
    "        row['job_id'], \n",
    "        int(row['salary']) \n",
    "    ) \n",
    "    cursor.execute(sql, values)"
   ]
  },
  {
   "cell_type": "code",
   "execution_count": 24,
   "id": "81b9536b-3f58-45ff-b7e7-0c6060f0b6eb",
   "metadata": {},
   "outputs": [
    {
     "name": "stdout",
     "output_type": "stream",
     "text": [
      "ETL process completed successfully.\n"
     ]
    }
   ],
   "source": [
    "mydb.commit() \n",
    "cursor.close() \n",
    "mydb.close() \n",
    "logging.error(\"Something went wrong\", exc_info=True) \n",
    "print(\"ETL process completed successfully.\")"
   ]
  },
  {
   "cell_type": "code",
   "execution_count": 25,
   "id": "b932ced8-f970-4635-a732-09a43e6bb195",
   "metadata": {},
   "outputs": [
    {
     "name": "stdout",
     "output_type": "stream",
     "text": [
      "C:\\Users\\farit\n"
     ]
    }
   ],
   "source": [
    "import os \n",
    "print(os.getcwd())"
   ]
  },
  {
   "cell_type": "code",
   "execution_count": 26,
   "id": "2ded16c3-5f41-456e-b699-93a6e81837db",
   "metadata": {},
   "outputs": [
    {
     "name": "stderr",
     "output_type": "stream",
     "text": [
      "[NbConvertApp] Converting notebook ETL.ipynb to script\n",
      "[NbConvertApp] Writing 3095 bytes to ETL.py\n"
     ]
    }
   ],
   "source": [
    "get_ipython().system('jupyter nbconvert --to script ETL.ipynb')"
   ]
  }
 ],
 "metadata": {
  "kernelspec": {
   "display_name": "Python 3 (ipykernel)",
   "language": "python",
   "name": "python3"
  },
  "language_info": {
   "codemirror_mode": {
    "name": "ipython",
    "version": 3
   },
   "file_extension": ".py",
   "mimetype": "text/x-python",
   "name": "python",
   "nbconvert_exporter": "python",
   "pygments_lexer": "ipython3",
   "version": "3.13.5"
  }
 },
 "nbformat": 4,
 "nbformat_minor": 5
}
