{
 "cells": [
  {
   "cell_type": "code",
   "execution_count": 8,
   "id": "144d7399-8c27-400b-8204-117d2567d92a",
   "metadata": {},
   "outputs": [
    {
     "name": "stdout",
     "output_type": "stream",
     "text": [
      "[False False  True False  True False  True]\n"
     ]
    }
   ],
   "source": [
    "import numpy as np\n",
    "\n",
    "arr = np.array([1, 2, 2, 3, 1, 4, 2])\n",
    "\n",
    "# Get first occurrence indices\n",
    "_, first_indices = np.unique(arr, return_index=True)\n",
    "\n",
    "# Initialize all elements as True (considered duplicates)\n",
    "is_duplicate = np.full(arr.shape, True, dtype=bool)\n",
    "\n",
    "# Set the first occurrence positions to False (not duplicates)\n",
    "is_duplicate[first_indices] = False\n",
    "\n",
    "print(is_duplicate)\n"
   ]
  },
  {
   "cell_type": "code",
   "execution_count": null,
   "id": "4155a199-a7be-4ac3-9171-6986379801c2",
   "metadata": {},
   "outputs": [],
   "source": []
  }
 ],
 "metadata": {
  "kernelspec": {
   "display_name": "Python 3 (ipykernel)",
   "language": "python",
   "name": "python3"
  },
  "language_info": {
   "codemirror_mode": {
    "name": "ipython",
    "version": 3
   },
   "file_extension": ".py",
   "mimetype": "text/x-python",
   "name": "python",
   "nbconvert_exporter": "python",
   "pygments_lexer": "ipython3",
   "version": "3.13.5"
  }
 },
 "nbformat": 4,
 "nbformat_minor": 5
}
